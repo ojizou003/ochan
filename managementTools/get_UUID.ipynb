{
 "cells": [
  {
   "cell_type": "code",
   "execution_count": null,
   "metadata": {},
   "outputs": [],
   "source": [
    "import uuid\n",
    "\n",
    "namespace = uuid.NAMESPACE_URL  # 既定の名前空間\n",
    "name = \"ピッチャー\"  # 基となる文字列\n",
    "uuid_v5 = uuid.uuid5(namespace, name).hex\n",
    "print(uuid_v5)"
   ]
  }
 ],
 "metadata": {
  "language_info": {
   "name": "python"
  }
 },
 "nbformat": 4,
 "nbformat_minor": 2
}
