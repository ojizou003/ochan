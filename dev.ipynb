{
 "cells": [
  {
   "cell_type": "code",
   "execution_count": 4,
   "metadata": {},
   "outputs": [],
   "source": [
    "from app import app, db"
   ]
  },
  {
   "cell_type": "code",
   "execution_count": 7,
   "metadata": {},
   "outputs": [],
   "source": [
    "with app.app_context():\n",
    "    db.drop_all()"
   ]
  },
  {
   "cell_type": "code",
   "execution_count": 8,
   "metadata": {},
   "outputs": [],
   "source": [
    "with app.app_context():\n",
    "    db.create_all()"
   ]
  },
  {
   "cell_type": "code",
   "execution_count": 9,
   "metadata": {},
   "outputs": [],
   "source": [
    "import json\n",
    "import uuid\n",
    "from datetime import datetime"
   ]
  },
  {
   "cell_type": "code",
   "execution_count": 10,
   "metadata": {},
   "outputs": [],
   "source": [
    "from models import BoardCategory, Board, Thread, Res"
   ]
  },
  {
   "cell_type": "code",
   "execution_count": 11,
   "metadata": {},
   "outputs": [],
   "source": [
    "def insert_mockdata():\n",
    "    with open(\"mockdata.json\", encoding=\"utf-8\") as f:\n",
    "        mock_data = json.load(f)\n",
    "\n",
    "    for category in mock_data[\"board_categories\"]:\n",
    "        id = uuid.UUID(category.pop(\"id\"))\n",
    "        created_at = datetime.fromisoformat(category.pop(\"created_at\"))\n",
    "        db.session.add(BoardCategory(id=id, created_at=created_at, **category))\n",
    "\n",
    "    for board in mock_data[\"boards\"]:\n",
    "        id = uuid.UUID(board.pop(\"id\"))\n",
    "        created_at = datetime.fromisoformat(board.pop(\"created_at\"))\n",
    "        category_id = uuid.UUID(board.pop(\"category_id\"))\n",
    "        db.session.add(\n",
    "            Board(id=id, created_at=created_at, category_id=category_id, **board)\n",
    "        )\n",
    "\n",
    "    for thread in mock_data[\"threads\"]:\n",
    "        id = uuid.UUID(thread.pop(\"id\"))\n",
    "        created_at = datetime.fromisoformat(thread.pop(\"created_at\"))\n",
    "        board_id = uuid.UUID(thread.pop(\"board_id\"))\n",
    "        db.session.add(\n",
    "            Thread(id=id, created_at=created_at, board_id=board_id, **thread)\n",
    "        )\n",
    "\n",
    "    for res in mock_data[\"reses\"]:\n",
    "        id = uuid.UUID(res.pop(\"id\"))\n",
    "        created_at = datetime.fromisoformat(res.pop(\"created_at\"))\n",
    "        thread_id = uuid.UUID(res.pop(\"thread_id\"))\n",
    "        db.session.add(Res(id=id, created_at=created_at, thread_id=thread_id, **res))\n",
    "\n",
    "    db.session.commit()"
   ]
  },
  {
   "cell_type": "code",
   "execution_count": 12,
   "metadata": {},
   "outputs": [],
   "source": [
    "with app.app_context():\n",
    "    insert_mockdata()"
   ]
  },
  {
   "cell_type": "code",
   "execution_count": null,
   "metadata": {},
   "outputs": [],
   "source": []
  }
 ],
 "metadata": {
  "kernelspec": {
   "display_name": ".venv",
   "language": "python",
   "name": "python3"
  },
  "language_info": {
   "codemirror_mode": {
    "name": "ipython",
    "version": 3
   },
   "file_extension": ".py",
   "mimetype": "text/x-python",
   "name": "python",
   "nbconvert_exporter": "python",
   "pygments_lexer": "ipython3",
   "version": "3.12.5"
  }
 },
 "nbformat": 4,
 "nbformat_minor": 2
}
